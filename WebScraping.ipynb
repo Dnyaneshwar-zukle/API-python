{
  "nbformat": 4,
  "nbformat_minor": 0,
  "metadata": {
    "colab": {
      "provenance": [],
      "authorship_tag": "ABX9TyNFpllyyUS8pgUnbRnPPt3E",
      "include_colab_link": true
    },
    "kernelspec": {
      "name": "python3",
      "display_name": "Python 3"
    },
    "language_info": {
      "name": "python"
    }
  },
  "cells": [
    {
      "cell_type": "markdown",
      "metadata": {
        "id": "view-in-github",
        "colab_type": "text"
      },
      "source": [
        "<a href=\"https://colab.research.google.com/github/Dnyaneshwar-zukle/API-python/blob/main/WebScraping.ipynb\" target=\"_parent\"><img src=\"https://colab.research.google.com/assets/colab-badge.svg\" alt=\"Open In Colab\"/></a>"
      ]
    },
    {
      "cell_type": "code",
      "execution_count": 4,
      "metadata": {
        "id": "2sZHIeIdf9bB"
      },
      "outputs": [],
      "source": [
        "import requests\n",
        "from bs4 import BeautifulSoup"
      ]
    },
    {
      "cell_type": "code",
      "source": [
        "page = requests.get('https://webbuket.com/').text"
      ],
      "metadata": {
        "id": "ZcrPG6bPgxRs"
      },
      "execution_count": 9,
      "outputs": []
    },
    {
      "cell_type": "code",
      "source": [
        "# create beautiful object\n",
        "soups = BeautifulSoup(page,\"html.parser\")"
      ],
      "metadata": {
        "id": "rhww0VBVhPks"
      },
      "execution_count": 16,
      "outputs": []
    },
    {
      "cell_type": "code",
      "source": [
        "# full all the instances of <a> tag\n",
        "soup = soups.find_all('a')"
      ],
      "metadata": {
        "id": "aw4t8rIkhp6s"
      },
      "execution_count": 17,
      "outputs": []
    },
    {
      "cell_type": "code",
      "source": [
        "soup"
      ],
      "metadata": {
        "colab": {
          "base_uri": "https://localhost:8080/"
        },
        "id": "1enX9hm3h2-T",
        "outputId": "44e9648e-c4dd-444b-c4c4-087d72ba8dd1"
      },
      "execution_count": 18,
      "outputs": [
        {
          "output_type": "execute_result",
          "data": {
            "text/plain": [
              "[<a href=\"https://webbuket.com/?hsLang=en\">\n",
              " <img alt=\"WebBuket Logo-1\" class=\"\" loading=\"lazy\" src=\"https://webbuket.com/hubfs/WebBuket%20Logo-1.png\" style=\"max-width: 60px; max-height: 53px\" width=\"100%\"/>\n",
              " </a>,\n",
              " <a aria-expanded=\"false\" aria-haspopup=\"true\" class=\"menu__link menu__link--toggle\" href=\"#\">Tools</a>,\n",
              " <a class=\"menu__link\" href=\"https://webbuket.com/tools/word-and-letter-counter-tool\">Counter Tool</a>,\n",
              " <a aria-expanded=\"false\" aria-haspopup=\"true\" class=\"menu__link menu__link--toggle\" href=\"#\">Tools</a>,\n",
              " <a class=\"menu__link\" href=\"https://webbuket.com/tools/word-and-letter-counter-tool\">Counter Tool</a>,\n",
              " <a href=\"+49%20(0)%2089%20123%20456\">\n",
              "             +49 (0) 89 123 456\n",
              "           </a>,\n",
              " <a href=\"+49%20(0)%2089%20123%20456\">\n",
              "             +49 (0) 89 123 456\n",
              "           </a>,\n",
              " <a class=\"au-button au-button--filled\" href=\"mailto:dnyaneshwar.thecoder@gmail.com\">\n",
              " <span class=\"au-button__text\">Contact Us</span>\n",
              " </a>,\n",
              " <a href=\"https://webbuket.com/blog?hsLang=en\" rel=\"noopener\" target=\"_blank\"><span>Blog</span></a>,\n",
              " <a href=\"//www.hubspot.com\">\n",
              "        |\n",
              "     </a>,\n",
              " <a href=\"//www.hubspot.com\">\n",
              " </a>,\n",
              " <a href=\"/blog?hsLang=en\">Read Blogs</a>]"
            ]
          },
          "metadata": {},
          "execution_count": 18
        }
      ]
    },
    {
      "cell_type": "code",
      "source": [
        "for soup in soups:\n",
        "  names = soups.contents[0]\n",
        "  fulLink = soups.get('href')\n",
        "  print(names)\n",
        "  print(fulLink)"
      ],
      "metadata": {
        "colab": {
          "base_uri": "https://localhost:8080/"
        },
        "id": "46a6Qjbnh6Jk",
        "outputId": "bc5c3361-ea01-4e8b-cb53-49f6f743bc6a"
      },
      "execution_count": 24,
      "outputs": [
        {
          "output_type": "stream",
          "name": "stdout",
          "text": [
            "html\n",
            "None\n",
            "html\n",
            "None\n"
          ]
        }
      ]
    },
    {
      "cell_type": "code",
      "source": [],
      "metadata": {
        "id": "JtEWaIL1iwbC"
      },
      "execution_count": null,
      "outputs": []
    }
  ]
}