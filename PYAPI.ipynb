{
  "nbformat": 4,
  "nbformat_minor": 0,
  "metadata": {
    "colab": {
      "provenance": [],
      "authorship_tag": "ABX9TyPAZJ8mNdZ+nRlr1ZKtC7IU",
      "include_colab_link": true
    },
    "kernelspec": {
      "name": "python3",
      "display_name": "Python 3"
    },
    "language_info": {
      "name": "python"
    }
  },
  "cells": [
    {
      "cell_type": "markdown",
      "metadata": {
        "id": "view-in-github",
        "colab_type": "text"
      },
      "source": [
        "<a href=\"https://colab.research.google.com/github/Dnyaneshwar-zukle/API-python/blob/main/PYAPI.ipynb\" target=\"_parent\"><img src=\"https://colab.research.google.com/assets/colab-badge.svg\" alt=\"Open In Colab\"/></a>"
      ]
    },
    {
      "cell_type": "code",
      "execution_count": 29,
      "metadata": {
        "colab": {
          "base_uri": "https://localhost:8080/"
        },
        "id": "j3FqRXTXtXll",
        "outputId": "1f6e5cfb-a740-4632-8e1b-626fcf1055d5"
      },
      "outputs": [
        {
          "output_type": "execute_result",
          "data": {
            "text/plain": [
              "{'User-Agent': 'python-requests/2.27.1', 'Accept-Encoding': 'gzip, deflate', 'Accept': '*/*', 'Connection': 'keep-alive'}"
            ]
          },
          "metadata": {},
          "execution_count": 29
        }
      ],
      "source": [
        "# HTTP protocol\n",
        "# Request\n",
        "# Responce\n",
        "import requests\n",
        "url='https://webbuket.com/'\n",
        "r=requests.get(url)\n",
        "r.status_code:200\n",
        "r.request.headers"
      ]
    },
    {
      "cell_type": "code",
      "source": [
        "r.request.body:None"
      ],
      "metadata": {
        "id": "dDLRFx5r-r3r"
      },
      "execution_count": 30,
      "outputs": []
    },
    {
      "cell_type": "code",
      "source": [
        "header=r.headers"
      ],
      "metadata": {
        "id": "4wpalGU3AH58"
      },
      "execution_count": 31,
      "outputs": []
    },
    {
      "cell_type": "code",
      "source": [
        "header"
      ],
      "metadata": {
        "colab": {
          "base_uri": "https://localhost:8080/"
        },
        "id": "L7eYrilwAZfz",
        "outputId": "eea6df25-82e9-4c97-f7be-6a5009b8ec5a"
      },
      "execution_count": 32,
      "outputs": [
        {
          "output_type": "execute_result",
          "data": {
            "text/plain": [
              "{'Date': 'Sat, 01 Jul 2023 05:58:14 GMT', 'Content-Type': 'text/html; charset=UTF-8', 'Transfer-Encoding': 'chunked', 'Connection': 'keep-alive', 'Cache-Control': 's-maxage=10800, max-age=0', 'ETag': 'W/\"d864c1d1c3c5e66b25305027df95a77f\"', 'Last-Modified': 'Sat, 24 Jun 2023 19:23:15 GMT', 'Link': '</hs/hsstatic/HubspotToolsMenu/static-1.191/js/index.js>; rel=preload; as=script,</hs/hsstatic/cms-free-branding-lib/static-1.267/js/index.js>; rel=preload; as=script,</hs/hsstatic/cos-i18n/static-1.53/bundles/project.js>; rel=preload; as=script', 'Strict-Transport-Security': 'max-age=31536000', 'Content-Security-Policy': 'upgrade-insecure-requests', 'Edge-Cache-Tag': 'CT-105055860562,P-22701114,CW-105111425320,CW-105115981127,CW-112286237801,CW-112288207033,CW-112288555406,CW-112292559716,CW-112292709397,CW-112292710212,E-105049028241,E-105054856537,E-105054856551,E-105055853226,E-105111192927,E-105111491370,E-105111498247,E-105111788074,E-112286481592,E-112294960296,E-112295184700,E-112295995203,MENU-108069814364,MENU-108071706166,RA-105048911138,RA-105049040034,RA-105049040131,RA-105049040171,PGS-ALL,SW-1,GC-105114944831,GC-105279053732,TS-105111191976', 'Referrer-Policy': 'no-referrer-when-downgrade', 'X-HS-Cache-Config': 'BrowserCache-5s-EdgeCache-180s', 'X-HS-Cache-Control': 's-maxage=10800, max-age=0', 'X-HS-CF-Cache-Status': 'MISS', 'X-HS-Content-Id': '105055860562', 'X-Hs-Https-Only': 'worker', 'X-HS-Hub-Id': '22701114', 'X-HS-Prerendered': 'Sat, 24 Jun 2023 19:23:15 GMT', 'Set-Cookie': '__cf_bm=S_Gs6xYCtovrHJIls1HxKaYal5CuiYmfGgc_9Alw.ns-1688191094-0-AQ5YneP0Em0Qtfxc+QiIzvOuYX97M41vUbacBpENpcbBmc+Ruj15+WFRDWMNx6EVkTQ3ztaoq+w6FXrRAKmLl1U=; path=/; expires=Sat, 01-Jul-23 06:28:14 GMT; domain=.webbuket.com; HttpOnly; Secure; SameSite=None, __cfruid=02c09508e8ea44a1b9d581d5d42b7dc2d54d3d56-1688191094; path=/; domain=.webbuket.com; HttpOnly; Secure; SameSite=None', 'Report-To': '{\"endpoints\":[{\"url\":\"https:\\\\/\\\\/a.nel.cloudflare.com\\\\/report\\\\/v3?s=j4%2BsVh9MWBQDSeGsg3x0mDzdRk4PRjZCzyO6l2NCVpLahMnO4ec%2BmJxi8kvfC3WR4TBl%2Fl8ekESqKT1aC2SGZd5qJ55z4xgj1r2B4bacIzJkCW%2FmpVLHzJ8ACJA93A%3D%3D\"}],\"group\":\"cf-nel\",\"max_age\":604800}', 'NEL': '{\"success_fraction\":0.01,\"report_to\":\"cf-nel\",\"max_age\":604800}', 'Vary': 'Accept-Encoding', 'Server': 'cloudflare', 'CF-RAY': '7dfc6a828fdd1371-ATL', 'Content-Encoding': 'gzip', 'alt-svc': 'h3=\":443\"; ma=86400'}"
            ]
          },
          "metadata": {},
          "execution_count": 32
        }
      ]
    },
    {
      "cell_type": "code",
      "source": [
        "header['Date']"
      ],
      "metadata": {
        "colab": {
          "base_uri": "https://localhost:8080/",
          "height": 35
        },
        "id": "6XJNxXPiAbuJ",
        "outputId": "3b65dea2-effe-4f57-a6d3-d2ad47b3c3c9"
      },
      "execution_count": 34,
      "outputs": [
        {
          "output_type": "execute_result",
          "data": {
            "text/plain": [
              "'Sat, 01 Jul 2023 05:58:14 GMT'"
            ],
            "application/vnd.google.colaboratory.intrinsic+json": {
              "type": "string"
            }
          },
          "metadata": {},
          "execution_count": 34
        }
      ]
    },
    {
      "cell_type": "code",
      "source": [
        "header['Content-type']"
      ],
      "metadata": {
        "colab": {
          "base_uri": "https://localhost:8080/",
          "height": 35
        },
        "id": "i7PK3JUhCOg5",
        "outputId": "9d17df68-d198-4055-bf87-365c2cd53c66"
      },
      "execution_count": 35,
      "outputs": [
        {
          "output_type": "execute_result",
          "data": {
            "text/plain": [
              "'text/html; charset=UTF-8'"
            ],
            "application/vnd.google.colaboratory.intrinsic+json": {
              "type": "string"
            }
          },
          "metadata": {},
          "execution_count": 35
        }
      ]
    },
    {
      "cell_type": "code",
      "source": [
        "r.encoading:'UTF-8'"
      ],
      "metadata": {
        "id": "8GOFCq0lCW-g"
      },
      "execution_count": 36,
      "outputs": []
    },
    {
      "cell_type": "code",
      "source": [
        "r.text[0:1000]"
      ],
      "metadata": {
        "colab": {
          "base_uri": "https://localhost:8080/",
          "height": 174
        },
        "id": "-1tnA6kSCoy5",
        "outputId": "827683c4-fe12-417b-f25c-c4db469df561"
      },
      "execution_count": 40,
      "outputs": [
        {
          "output_type": "execute_result",
          "data": {
            "text/plain": [
              "'<!doctype html><html lang=\"en\"><head>\\n    <meta charset=\"utf-8\">\\n    \\n    <!-- use only when the page has forms in the webpage -->\\n    <!--\\n      <link rel=\"preconnect\" href=\"https://js.hsforms.net\">\\n      <link rel=\"preconnect\" href=\"https://js.hscollectedforms.net\"> \\n    -->\\n    <link rel=\"preconnect\" href=\"https://cdn2.hubspot.net\">\\n    <link rel=\"preconnect\" href=\"https://static.hsappstatic.net\">\\n    <link rel=\"preconnect\" href=\"https://fonts.googleapis.com\">    \\n    <meta http-equiv=\"Content-Security-Policy\" content=\"upgrade-insecure-requests\">   \\n    \\n    \\n    <title>WebBuket India </title>\\n    \\n    <meta name=\"description\" content=\"Webbuket: Top web development company in India delivering custom web solutions worldwide. E-commerce, mobile app development &amp; more. Contact us now.\">\\n    \\n    \\n    \\n    \\n    \\n    \\n\\n    \\n    <meta property=\"og:description\" content=\"Webbuket: Top web development company in India delivering custom web solutions worldwide. E-commerce, mobile app deve'"
            ],
            "application/vnd.google.colaboratory.intrinsic+json": {
              "type": "string"
            }
          },
          "metadata": {},
          "execution_count": 40
        }
      ]
    },
    {
      "cell_type": "code",
      "source": [
        "# Get request with url parameters\n",
        "get_url='http://httpbin.org/get'\n",
        "payload={\"Name\":\"Mauli\",\"ID\":\"123\"}\n",
        "r=requests.get(get_url,params=payload)\n",
        "r.url:'http://httpbin.org/get?name=Mauli&id=123'\n",
        "r.request.body:None\n",
        "r.status_code: 200\n"
      ],
      "metadata": {
        "colab": {
          "base_uri": "https://localhost:8080/",
          "height": 87
        },
        "id": "4lqQslLVCvkA",
        "outputId": "cb852953-a406-4dfb-8224-37adda95761b"
      },
      "execution_count": 49,
      "outputs": [
        {
          "output_type": "execute_result",
          "data": {
            "text/plain": [
              "'{\\n  \"args\": {\\n    \"ID\": \"123\", \\n    \"Name\": \"Mauli\"\\n  }, \\n  \"headers\": {\\n    \"Accept\": \"*/*\", \\n    \"Accept-Encoding\": \"gzip, deflate\", \\n    \"Host\": \"httpbin.org\", \\n    \"User-Agent\": \"python-requests/2.27.1\", \\n    \"X-Amzn-Trace-Id\": \"Root=1-649fc556-30903f6324cd1bbb4dd41886\"\\n  }, \\n  \"origin\": \"34.138.138.39\", \\n  \"url\": \"http://httpbin.org/get?Name=Mauli&ID=123\"\\n}\\n'"
            ],
            "application/vnd.google.colaboratory.intrinsic+json": {
              "type": "string"
            }
          },
          "metadata": {},
          "execution_count": 49
        }
      ]
    },
    {
      "cell_type": "code",
      "source": [
        "# Content Type\n",
        "r.text\n",
        "r.json()"
      ],
      "metadata": {
        "colab": {
          "base_uri": "https://localhost:8080/"
        },
        "id": "vECy_uEQDzld",
        "outputId": "213aaf89-9e0d-4967-eb84-d3f0df145ff0"
      },
      "execution_count": 51,
      "outputs": [
        {
          "output_type": "execute_result",
          "data": {
            "text/plain": [
              "{'args': {'ID': '123', 'Name': 'Mauli'},\n",
              " 'headers': {'Accept': '*/*',\n",
              "  'Accept-Encoding': 'gzip, deflate',\n",
              "  'Host': 'httpbin.org',\n",
              "  'User-Agent': 'python-requests/2.27.1',\n",
              "  'X-Amzn-Trace-Id': 'Root=1-649fc556-30903f6324cd1bbb4dd41886'},\n",
              " 'origin': '34.138.138.39',\n",
              " 'url': 'http://httpbin.org/get?Name=Mauli&ID=123'}"
            ]
          },
          "metadata": {},
          "execution_count": 51
        }
      ]
    },
    {
      "cell_type": "code",
      "source": [
        "r.json()['args']"
      ],
      "metadata": {
        "colab": {
          "base_uri": "https://localhost:8080/"
        },
        "id": "7AF3Sp5WQyFc",
        "outputId": "94740408-226c-4292-c26e-235376e36503"
      },
      "execution_count": 52,
      "outputs": [
        {
          "output_type": "execute_result",
          "data": {
            "text/plain": [
              "{'ID': '123', 'Name': 'Mauli'}"
            ]
          },
          "metadata": {},
          "execution_count": 52
        }
      ]
    },
    {
      "cell_type": "code",
      "source": [
        "# Post Request\n",
        "url_post='http://httpbin.org/post'\n",
        "r_post=requests.post(url_post,data=payload)"
      ],
      "metadata": {
        "id": "blG_eFl8RL_b"
      },
      "execution_count": 54,
      "outputs": []
    },
    {
      "cell_type": "code",
      "source": [
        "print(\"Post Requests URL\",r_post.url)\n",
        "print(\"Get Requests URL\",r.url)"
      ],
      "metadata": {
        "colab": {
          "base_uri": "https://localhost:8080/"
        },
        "id": "BjbD0TxqRtd2",
        "outputId": "470f0c3a-c33e-414a-ca1b-6e7a7a880dc6"
      },
      "execution_count": 57,
      "outputs": [
        {
          "output_type": "stream",
          "name": "stdout",
          "text": [
            "Post Requests URL http://httpbin.org/post\n",
            "Get Requests URL http://httpbin.org/get?Name=Mauli&ID=123\n"
          ]
        }
      ]
    },
    {
      "cell_type": "code",
      "source": [
        "r_post.json()['form']"
      ],
      "metadata": {
        "colab": {
          "base_uri": "https://localhost:8080/"
        },
        "id": "mdQqhs7hSGZL",
        "outputId": "5ff7f1ef-9649-4d9a-8363-098cd73c3e1f"
      },
      "execution_count": 58,
      "outputs": [
        {
          "output_type": "execute_result",
          "data": {
            "text/plain": [
              "{'ID': '123', 'Name': 'Mauli'}"
            ]
          },
          "metadata": {},
          "execution_count": 58
        }
      ]
    },
    {
      "cell_type": "code",
      "source": [],
      "metadata": {
        "id": "hw614-lvTaDU"
      },
      "execution_count": null,
      "outputs": []
    }
  ]
}